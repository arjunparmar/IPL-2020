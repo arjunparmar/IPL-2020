{
 "cells": [
  {
   "cell_type": "code",
   "execution_count": null,
   "metadata": {},
   "outputs": [],
   "source": [
    "import numpy as np\n",
    "import pandas as pd\n",
    "from sklearn.metrics import mean_squared_error, r2_score\n",
    "from sklearn.linear_model import LinearRegression"
   ]
  },
  {
   "cell_type": "code",
   "execution_count": null,
   "metadata": {},
   "outputs": [],
   "source": [
    "class LinearRegressionS:\n",
    "    def __init__(self, learning_rate = 1e-4, num_iterations = 1500):\n",
    "        self.alpha = learning_rate\n",
    "        self.n = num_iterations\n",
    "    def init_parameters(self):\n",
    "        self.W = np.zeros((self.n_x, 1))\n",
    "    def predict(self, X):\n",
    "        return np.dot(X, self.W)\n",
    "    def cost(self, Y_P, Y_T):\n",
    "        return np.sum(np.square(Y_P - Y_T))/(2*self.m)\n",
    "    def gradient_step(self, X, Y):\n",
    "        Y_P = self.predict(X)\n",
    "        self.dW = np.dot(X.T,(Y_P - Y))/self.m\n",
    "        self.W = self.W - self.alpha*self.dW\n",
    "    def fit(self, X, Y, print_cost = False):\n",
    "        self.n_x = X.shape[1]\n",
    "        self.m = X.shape[0]\n",
    "        self.init_parameters()\n",
    "        for i in range(self.n):\n",
    "            self.gradient_step(X, Y)\n",
    "            if print_cost and i%100 == 0:\n",
    "                print(self.cost(self.predict(X), Y))"
   ]
  }
 ],
 "metadata": {
  "kernelspec": {
   "display_name": "Python 3",
   "language": "python",
   "name": "python3"
  },
  "language_info": {
   "codemirror_mode": {
    "name": "ipython",
    "version": 3
   },
   "file_extension": ".py",
   "mimetype": "text/x-python",
   "name": "python",
   "nbconvert_exporter": "python",
   "pygments_lexer": "ipython3",
   "version": "3.7.7"
  }
 },
 "nbformat": 4,
 "nbformat_minor": 4
}
